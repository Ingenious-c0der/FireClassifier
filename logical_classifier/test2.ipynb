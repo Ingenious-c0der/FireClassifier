{
 "cells": [
  {
   "cell_type": "markdown",
   "metadata": {},
   "source": []
  },
  {
   "cell_type": "code",
   "execution_count": 1,
   "metadata": {},
   "outputs": [
    {
     "name": "stderr",
     "output_type": "stream",
     "text": [
      "2023-04-21 20:10:34.721200: I tensorflow/core/platform/cpu_feature_guard.cc:193] This TensorFlow binary is optimized with oneAPI Deep Neural Network Library (oneDNN) to use the following CPU instructions in performance-critical operations:  SSE4.1 SSE4.2 AVX AVX2 FMA\n",
      "To enable them in other operations, rebuild TensorFlow with the appropriate compiler flags.\n"
     ]
    }
   ],
   "source": [
    "\n",
    "import tensorflow as tf\n",
    "import os\n",
    "import numpy as np\n",
    "import random\n",
    "import cv2 as cv\n",
    "\n",
    "\n",
    "\n",
    "\n",
    "import matplotlib.pyplot as plt\n",
    "\n",
    "##from skimage.io import imread,imshow\n",
    "\n",
    "# model = tf.keras.models.load_model('Modelv1',compile=False)\n",
    "\n",
    "# data = np.load('data.npz')\n",
    "# X_train = data['X_train']\n",
    "# X_test = data['X_test']\n",
    "# Y_test = data['Y_test']\n",
    "\n",
    "# preds_test = model.predict(X_test)\n",
    "#preds_test = (preds_test > 0.5).astype(np.uint8)\n",
    "\n",
    "\n",
    "\n",
    "\n",
    "\n",
    "\n",
    "\n",
    "\n",
    "\n",
    "\n"
   ]
  },
  {
   "cell_type": "code",
   "execution_count": 2,
   "metadata": {},
   "outputs": [
    {
     "ename": "NameError",
     "evalue": "name 'preds_test' is not defined",
     "output_type": "error",
     "traceback": [
      "\u001b[0;31m---------------------------------------------------------------------------\u001b[0m",
      "\u001b[0;31mNameError\u001b[0m                                 Traceback (most recent call last)",
      "Cell \u001b[0;32mIn[2], line 1\u001b[0m\n\u001b[0;32m----> 1\u001b[0m preds_test \u001b[38;5;241m=\u001b[39m (\u001b[43mpreds_test\u001b[49m \u001b[38;5;241m>\u001b[39m \u001b[38;5;241m0.5\u001b[39m)\u001b[38;5;241m.\u001b[39mastype(np\u001b[38;5;241m.\u001b[39muint8)\n\u001b[1;32m      2\u001b[0m \u001b[38;5;241m1\u001b[39m \u001b[38;5;129;01min\u001b[39;00m preds_test[\u001b[38;5;241m0\u001b[39m]\n",
      "\u001b[0;31mNameError\u001b[0m: name 'preds_test' is not defined"
     ]
    }
   ],
   "source": [
    "preds_test = (preds_test > 0.5).astype(np.uint8)\n",
    "1 in preds_test[0]"
   ]
  },
  {
   "cell_type": "code",
   "execution_count": null,
   "metadata": {},
   "outputs": [
    {
     "ename": "NameError",
     "evalue": "name 'X_test' is not defined",
     "output_type": "error",
     "traceback": [
      "\u001b[0;31m---------------------------------------------------------------------------\u001b[0m",
      "\u001b[0;31mNameError\u001b[0m                                 Traceback (most recent call last)",
      "Cell \u001b[0;32mIn[4], line 1\u001b[0m\n\u001b[0;32m----> 1\u001b[0m ix \u001b[38;5;241m=\u001b[39m random\u001b[38;5;241m.\u001b[39mrandint(\u001b[38;5;241m0\u001b[39m, \u001b[38;5;28mlen\u001b[39m(\u001b[43mX_test\u001b[49m))\n\u001b[1;32m      2\u001b[0m img \u001b[38;5;241m=\u001b[39m cv\u001b[38;5;241m.\u001b[39mcvtColor(X_test[\u001b[38;5;241m1\u001b[39m],cv\u001b[38;5;241m.\u001b[39mCOLOR_BGR2GRAY)\n\u001b[1;32m      3\u001b[0m img2\u001b[38;5;241m=\u001b[39mnp\u001b[38;5;241m.\u001b[39marray(preds_test[\u001b[38;5;241m1\u001b[39m])\u001b[38;5;241m.\u001b[39mastype(\u001b[38;5;124m'\u001b[39m\u001b[38;5;124muint8\u001b[39m\u001b[38;5;124m'\u001b[39m)\n",
      "\u001b[0;31mNameError\u001b[0m: name 'X_test' is not defined"
     ]
    }
   ],
   "source": [
    "ix = random.randint(0, len(X_test))\n",
    "img = cv.cvtColor(X_test[1],cv.COLOR_BGR2GRAY)\n",
    "img2=np.array(preds_test[1]).astype('uint8')\n",
    "\n",
    "# img2 = img2.transpose(2,0,1).reshape(128,-1)\n",
    "\n",
    "\n",
    "for i in range(img2.shape[0]):\n",
    "    for j in range(img2.shape[1]):\n",
    "        if img2[i][j] == 1:\n",
    "            img2[i][j] = 255\n",
    "\n",
    "\n",
    "cv.imshow('X',img)\n",
    "cv.waitKey(0)\n",
    "# cv.imshow('Y',np.array(Y_test[ix]).astype('uint8'))\n",
    "cv.imshow('Pred',img2)\n",
    "\n",
    "\n",
    "\n",
    "\n",
    "\n",
    "cv.waitKey(0)\n",
    "cv.destroyAllWindows()\n",
    "\n"
   ]
  },
  {
   "cell_type": "code",
   "execution_count": 6,
   "metadata": {},
   "outputs": [
    {
     "name": "stdout",
     "output_type": "stream",
     "text": [
      "401 17\n"
     ]
    }
   ],
   "source": [
    "img3 = cv.imread('/home/omkar/FireClassifier/segmented_imgs/img/img75/Fire34.jpg')\n",
    "img4 = img3[:,:,2]\n",
    "img5 = cv.blur(img4,(10,10))\n",
    "contours, hierarchy = cv.findContours(img4,cv.RETR_EXTERNAL,cv.CHAIN_APPROX_SIMPLE)\n",
    "contours2, hierarchy = cv.findContours(img5,cv.RETR_EXTERNAL,cv.CHAIN_APPROX_SIMPLE)\n",
    "print(len(contours),len(contours2))"
   ]
  },
  {
   "cell_type": "code",
   "execution_count": 7,
   "metadata": {},
   "outputs": [
    {
     "name": "stdout",
     "output_type": "stream",
     "text": [
      "188910.0 2078\n"
     ]
    }
   ],
   "source": [
    "c1 = contours2\n",
    "# c = list(c[5])\n",
    "# c_sort_by_y = sorted(c,key = lambda x : x[0][1])\n",
    "# c_sort_by_x = sorted(c,key = lambda x : x[0][0])\n",
    "# c_sort_by_y\n",
    "c_selected = c1[0]\n",
    "for i in c1:\n",
    "    if len(c_selected)< len(i): \n",
    "        c_selected = i\n",
    "\n",
    "c = list(c_selected)\n",
    "c_sort_by_y = sorted(c,key = lambda x : x[0][1])\n",
    "c_sort_by_x = sorted(c,key = lambda x : x[0][0])\n",
    "print(cv.contourArea(c_selected),len(c_selected))"
   ]
  },
  {
   "cell_type": "code",
   "execution_count": 9,
   "metadata": {},
   "outputs": [
    {
     "name": "stdout",
     "output_type": "stream",
     "text": [
      "{'width': 884, 'height': 483, 'base_midpoint': 470} 0.01941963458473854\n",
      "\n",
      "\n",
      "1.1579032687609278e-05 0.09803821804714975 (172726, 16.917897938658534, 97.28264651150246, 170.20537151326377)\n",
      "\n",
      "\n"
     ]
    }
   ],
   "source": [
    "\n",
    "import math\n",
    "\n",
    "def contourprep(img):\n",
    "    img = img[:,:,2]\n",
    "    img = cv.blur(img,(10,10))\n",
    "    contours, hierarchy = cv.findContours(img,cv.RETR_EXTERNAL,cv.CHAIN_APPROX_SIMPLE)\n",
    "    c_selected = contours[0]\n",
    "    for i in contours:\n",
    "        if len(c_selected)< len(i): \n",
    "            c_selected = i\n",
    "\n",
    "    c = list(c_selected)\n",
    "    c_sort_by_y = sorted(c,key = lambda x : x[0][1])\n",
    "    c_sort_by_x = sorted(c,key = lambda x : x[0][0])\n",
    "    return contours,c_sort_by_x,c_sort_by_y\n",
    "    \n",
    "    \n",
    "\n",
    "    \n",
    "def getBaseWidthAndHeight(arr:list):\n",
    "    min_y = arr[len(arr)-1][0][1]\n",
    "    max_y = arr[0][0][1]\n",
    "    range = (min_y - max_y)/4\n",
    "    min_x = arr[len(arr)-1][0][0]\n",
    "    max_x = arr[len(arr)-1][0][0]\n",
    "    #print('hehe',max_x,min_x,range,max_y,min_y,min_y-range)\n",
    "\n",
    "    \n",
    "    i = len(arr)-1\n",
    "    while i >= 0:\n",
    "        if(arr[i][0][1] < int(min_y-range)):\n",
    "            break\n",
    "        if(arr[i][0][0] > max_x):\n",
    "            max_x = arr[i][0][0]\n",
    "        if(arr[i][0][0] < min_x):\n",
    "            min_x = arr[i][0][0]\n",
    "        i = i -1\n",
    "    midpoint = math.floor((min_x + max_x)/2)\n",
    "\n",
    "    return {\"width\":max_x - min_x,\"height\":min_y-max_y,\"base_midpoint\":midpoint}\n",
    "\n",
    "\n",
    "\n",
    "def getSymmetryScore(arr:list,base_midpoint):\n",
    "    \n",
    "\n",
    "    min_x = arr[len(arr)-1][0][0]\n",
    "    max_x = arr[0][0][0]\n",
    "    mean = base_midpoint\n",
    "    left_area = 0\n",
    "    right_area = 0\n",
    "\n",
    "    for i in range(0,len(arr)):\n",
    "        if arr[i][0][0] < mean:\n",
    "            left_area += mean-arr[i][0][0]\n",
    "        else:\n",
    "            right_area += arr[i][0][0]-mean\n",
    "    return abs(left_area-right_area)/(left_area+right_area)\n",
    "\n",
    "def getAttrributes(img):\n",
    "    h_mat = img[:,:,0]\n",
    "    s_mat = img[:,:,1]\n",
    "    v_mat = img[:,:,2]\n",
    "    number_of_nonblackpixels = np.count_nonzero(v_mat)\n",
    "    average_h = h_mat[np.nonzero(h_mat)].mean()\n",
    "    average_s = s_mat[np.nonzero(s_mat)].mean()\n",
    "    average_v = v_mat[np.nonzero(v_mat)].mean()\n",
    "    return number_of_nonblackpixels,average_h,average_s,average_v\n",
    "\n",
    "def getArclengthAreaRatio(img):\n",
    "    number_of_nonblackpixels = np.count_nonzero(img[:,:,2])\n",
    "    contours, hierarchy = cv.findContours(img[:,:,2],cv.RETR_EXTERNAL,cv.CHAIN_APPROX_SIMPLE)\n",
    "    total_arclength = 0\n",
    "    for i in contours:\n",
    "        total_arclength += cv.arcLength(i,True)\n",
    "\n",
    "    return total_arclength/number_of_nonblackpixels\n",
    "\n",
    "def whitePixelsAreaRatio(img):\n",
    "    \n",
    "    number_of_nonblackpixels = np.count_nonzero(img[:,:,2])\n",
    "    return len(np.where(img[:,:,2]>250))/number_of_nonblackpixels\n",
    "\n",
    "countours,c_sort_by_x,c_sort_by_y=contourprep(img3)\n",
    "\n",
    "\n",
    "\n",
    "\n",
    "\n",
    "\n",
    "\n",
    "fire = getBaseWidthAndHeight(c_sort_by_y)\n",
    "print(fire,getSymmetryScore(c_sort_by_x,fire[\"base_midpoint\"]))\n",
    "print('\\n')\n",
    "print(whitePixelsAreaRatio(img3),getArclengthAreaRatio(img3),getAttrributes(img3))\n",
    "print('\\n')\n",
    "\n",
    "#getSymmetryScore(c_sort_by_x,fire[\"base_midpoint\"])\n",
    "# img3 = img3.astype(np.uint8)\n",
    "# img3 = cv.drawContours(img3, c, -1, (0,255,0), 3)\n",
    "\n"
   ]
  },
  {
   "cell_type": "code",
   "execution_count": 70,
   "metadata": {},
   "outputs": [
    {
     "name": "stdout",
     "output_type": "stream",
     "text": [
      "443341 518400\n"
     ]
    }
   ],
   "source": [
    "print(np.count_nonzero(img3),img3.shape[0]*img3.shape[1])\n"
   ]
  },
  {
   "cell_type": "code",
   "execution_count": 11,
   "metadata": {},
   "outputs": [],
   "source": [
    "cv.imshow('Pred',img4)\n",
    "\n",
    "\n",
    "\n",
    "\n",
    "\n",
    "cv.waitKey(0)\n",
    "cv.destroyAllWindows()"
   ]
  },
  {
   "cell_type": "code",
   "execution_count": null,
   "metadata": {},
   "outputs": [],
   "source": []
  }
 ],
 "metadata": {
  "kernelspec": {
   "display_name": "Python 3.9.16 ('tf2')",
   "language": "python",
   "name": "python3"
  },
  "language_info": {
   "codemirror_mode": {
    "name": "ipython",
    "version": 3
   },
   "file_extension": ".py",
   "mimetype": "text/x-python",
   "name": "python",
   "nbconvert_exporter": "python",
   "pygments_lexer": "ipython3",
   "version": "3.9.16"
  },
  "orig_nbformat": 4,
  "vscode": {
   "interpreter": {
    "hash": "ed9ca85d4bfbbd06ad1fd45b698e05a94a8f346ef6c7ca06b6089ee8a1453e2e"
   }
  }
 },
 "nbformat": 4,
 "nbformat_minor": 2
}
