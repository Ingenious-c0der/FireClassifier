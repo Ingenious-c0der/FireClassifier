{
 "cells": [
  {
   "cell_type": "markdown",
   "metadata": {},
   "source": []
  },
  {
   "cell_type": "code",
   "execution_count": 9,
   "metadata": {},
   "outputs": [
    {
     "name": "stderr",
     "output_type": "stream",
     "text": [
      "2023-05-05 19:31:21.644424: I tensorflow/core/platform/cpu_feature_guard.cc:193] This TensorFlow binary is optimized with oneAPI Deep Neural Network Library (oneDNN) to use the following CPU instructions in performance-critical operations:  SSE4.1 SSE4.2 AVX AVX2 FMA\n",
      "To enable them in other operations, rebuild TensorFlow with the appropriate compiler flags.\n"
     ]
    }
   ],
   "source": [
    "\n",
    "import tensorflow as tf\n",
    "import os\n",
    "import numpy as np\n",
    "import random\n",
    "import cv2 as cv\n",
    "\n",
    "\n",
    "\n",
    "\n",
    "import matplotlib.pyplot as plt\n",
    "\n",
    "##from skimage.io import imread,imshow\n",
    "\n",
    "# model = tf.keras.models.load_model('Modelv1',compile=False)\n",
    "\n",
    "# data = np.load('data.npz')\n",
    "# X_train = data['X_train']\n",
    "# X_test = data['X_test']\n",
    "# Y_test = data['Y_test']\n",
    "\n",
    "# preds_test = model.predict(X_test)\n",
    "#preds_test = (preds_test > 0.5).astype(np.uint8)\n",
    "\n",
    "\n",
    "\n",
    "\n",
    "\n",
    "\n",
    "\n",
    "\n",
    "\n",
    "\n"
   ]
  },
  {
   "cell_type": "code",
   "execution_count": 5,
   "metadata": {},
   "outputs": [
    {
     "ename": "NameError",
     "evalue": "name 'preds_test' is not defined",
     "output_type": "error",
     "traceback": [
      "\u001b[0;31m---------------------------------------------------------------------------\u001b[0m",
      "\u001b[0;31mNameError\u001b[0m                                 Traceback (most recent call last)",
      "Cell \u001b[0;32mIn[5], line 1\u001b[0m\n\u001b[0;32m----> 1\u001b[0m preds_test \u001b[38;5;241m=\u001b[39m (\u001b[43mpreds_test\u001b[49m \u001b[38;5;241m>\u001b[39m \u001b[38;5;241m0.5\u001b[39m)\u001b[38;5;241m.\u001b[39mastype(np\u001b[38;5;241m.\u001b[39muint8)\n\u001b[1;32m      2\u001b[0m \u001b[38;5;241m1\u001b[39m \u001b[38;5;129;01min\u001b[39;00m preds_test[\u001b[38;5;241m0\u001b[39m]\n",
      "\u001b[0;31mNameError\u001b[0m: name 'preds_test' is not defined"
     ]
    }
   ],
   "source": [
    "preds_test = (preds_test > 0.5).astype(np.uint8)\n",
    "1 in preds_test[0]"
   ]
  },
  {
   "cell_type": "code",
   "execution_count": null,
   "metadata": {},
   "outputs": [
    {
     "ename": "NameError",
     "evalue": "name 'X_test' is not defined",
     "output_type": "error",
     "traceback": [
      "\u001b[0;31m---------------------------------------------------------------------------\u001b[0m",
      "\u001b[0;31mNameError\u001b[0m                                 Traceback (most recent call last)",
      "Cell \u001b[0;32mIn[4], line 1\u001b[0m\n\u001b[0;32m----> 1\u001b[0m ix \u001b[38;5;241m=\u001b[39m random\u001b[38;5;241m.\u001b[39mrandint(\u001b[38;5;241m0\u001b[39m, \u001b[38;5;28mlen\u001b[39m(\u001b[43mX_test\u001b[49m))\n\u001b[1;32m      2\u001b[0m img \u001b[38;5;241m=\u001b[39m cv\u001b[38;5;241m.\u001b[39mcvtColor(X_test[\u001b[38;5;241m1\u001b[39m],cv\u001b[38;5;241m.\u001b[39mCOLOR_BGR2GRAY)\n\u001b[1;32m      3\u001b[0m img2\u001b[38;5;241m=\u001b[39mnp\u001b[38;5;241m.\u001b[39marray(preds_test[\u001b[38;5;241m1\u001b[39m])\u001b[38;5;241m.\u001b[39mastype(\u001b[38;5;124m'\u001b[39m\u001b[38;5;124muint8\u001b[39m\u001b[38;5;124m'\u001b[39m)\n",
      "\u001b[0;31mNameError\u001b[0m: name 'X_test' is not defined"
     ]
    }
   ],
   "source": [
    "ix = random.randint(0, len(X_test))\n",
    "img = cv.cvtColor(X_test[1],cv.COLOR_BGR2GRAY)\n",
    "img2=np.array(preds_test[1]).astype('uint8')\n",
    "\n",
    "# img2 = img2.transpose(2,0,1).reshape(128,-1)\n",
    "\n",
    "\n",
    "for i in range(img2.shape[0]):\n",
    "    for j in range(img2.shape[1]):\n",
    "        if img2[i][j] == 1:\n",
    "            img2[i][j] = 255\n",
    "\n",
    "\n",
    "cv.imshow('X',img)\n",
    "cv.waitKey(0)\n",
    "# cv.imshow('Y',np.array(Y_test[ix]).astype('uint8'))\n",
    "cv.imshow('Pred',img2)\n",
    "\n",
    "\n",
    "\n",
    "\n",
    "\n",
    "cv.waitKey(0)\n",
    "cv.destroyAllWindows()\n",
    "\n"
   ]
  },
  {
   "cell_type": "code",
   "execution_count": 8,
   "metadata": {},
   "outputs": [
    {
     "name": "stdout",
     "output_type": "stream",
     "text": [
      "194 2\n"
     ]
    }
   ],
   "source": [
    "img3 = cv.imread('/home/omkar/FireClassifier/segmented_imgs/img/img75/Fire2.jpg')\n",
    "# img3 = cv.imread('/home/omkar/FireClassifier/Flame/Flame0.jpg')\n",
    "img4 = img3[:,:,2]\n",
    "img5 = cv.blur(img4,(10,10))\n",
    "contours, hierarchy = cv.findContours(img4,cv.RETR_EXTERNAL,cv.CHAIN_APPROX_SIMPLE)\n",
    "contours2, hierarchy = cv.findContours(img5,cv.RETR_EXTERNAL,cv.CHAIN_APPROX_SIMPLE)\n",
    "print(len(contours),len(contours2))"
   ]
  },
  {
   "cell_type": "code",
   "execution_count": 9,
   "metadata": {},
   "outputs": [
    {
     "name": "stdout",
     "output_type": "stream",
     "text": [
      "159750.0 1006\n"
     ]
    }
   ],
   "source": [
    "c1 = contours2\n",
    "# c = list(c[5])\n",
    "# c_sort_by_y = sorted(c,key = lambda x : x[0][1])\n",
    "# c_sort_by_x = sorted(c,key = lambda x : x[0][0])\n",
    "# c_sort_by_y\n",
    "c_selected = c1[0]\n",
    "for i in c1:\n",
    "    if len(c_selected)< len(i): \n",
    "        c_selected = i\n",
    "\n",
    "c = list(c_selected)\n",
    "c_sort_by_y = sorted(c,key = lambda x : x[0][1])\n",
    "c_sort_by_x = sorted(c,key = lambda x : x[0][0])\n",
    "print(cv.contourArea(c_selected),len(c_selected))"
   ]
  },
  {
   "cell_type": "code",
   "execution_count": 28,
   "metadata": {},
   "outputs": [
    {
     "name": "stdout",
     "output_type": "stream",
     "text": [
      "Fireimg1 8442.307565569878\n",
      "Flameimg1 2208.2022211551666\n",
      "Fireimg2 22235.900946497917\n",
      "Flameimg2 7982.573382258415\n"
     ]
    }
   ],
   "source": [
    "\n",
    "import math\n",
    "\n",
    "fire_img1=cv.imread('/home/omkar/FireClassifier/segmented_imgs/img/img75/Fire2.jpg')\n",
    "fire_img2=cv.imread('/home/omkar/FireClassifier/segmented_imgs/img/img75/Fire19.jpg')\n",
    "flame_img1=cv.imread('/home/omkar/FireClassifier/segmented_imgs/img/Fire/Flame11.jpg')\n",
    "flame_img2=cv.imread('/home/omkar/FireClassifier/segmented_imgs/img/Fire/Flame1.jpg')\n",
    "\n",
    "def contourprep(img):\n",
    "    img = img[:,:,2]\n",
    "    img = cv.blur(img,(10,10))\n",
    "    contours, hierarchy = cv.findContours(img,cv.RETR_EXTERNAL,cv.CHAIN_APPROX_SIMPLE)\n",
    "    c_selected = contours[0]\n",
    "    for i in contours:\n",
    "        if len(c_selected)< len(i): \n",
    "            c_selected = i\n",
    "\n",
    "    c = list(c_selected)\n",
    "    c_sort_by_y = sorted(c,key = lambda x : x[0][1])\n",
    "    c_sort_by_x = sorted(c,key = lambda x : x[0][0])\n",
    "    return contours,c_sort_by_x,c_sort_by_y\n",
    "    \n",
    "    \n",
    "\n",
    "    \n",
    "def getBaseWidthAndHeight(arr:list):\n",
    "    min_y = arr[len(arr)-1][0][1]\n",
    "    max_y = arr[0][0][1]\n",
    "    range = (min_y - max_y)/4\n",
    "    min_x = arr[len(arr)-1][0][0]\n",
    "    max_x = arr[len(arr)-1][0][0]\n",
    "    #print('hehe',max_x,min_x,range,max_y,min_y,min_y-range)\n",
    "\n",
    "    \n",
    "    i = len(arr)-1\n",
    "    while i >= 0:\n",
    "        if(arr[i][0][1] < int(min_y-range)):\n",
    "            break\n",
    "        if(arr[i][0][0] > max_x):\n",
    "            max_x = arr[i][0][0]\n",
    "        if(arr[i][0][0] < min_x):\n",
    "            min_x = arr[i][0][0]\n",
    "        i = i -1\n",
    "    midpoint = math.floor((min_x + max_x)/2)\n",
    "\n",
    "    return {\"width\":max_x - min_x,\"height\":min_y-max_y,\"base_midpoint\":midpoint}\n",
    "\n",
    "\n",
    "\n",
    "def getSymmetryScore(arr:list,base_midpoint):\n",
    "    \n",
    "\n",
    "    min_x = arr[len(arr)-1][0][0]\n",
    "    max_x = arr[0][0][0]\n",
    "    mean = base_midpoint\n",
    "    left_area = 0\n",
    "    right_area = 0\n",
    "\n",
    "    for i in range(0,len(arr)):\n",
    "        if arr[i][0][0] < mean:\n",
    "            left_area += mean-arr[i][0][0]\n",
    "        else:\n",
    "            right_area += arr[i][0][0]-mean\n",
    "    return abs(left_area-right_area)/(left_area+right_area)\n",
    "\n",
    "def getAttrributes(img):\n",
    "    h_mat = img[:,:,0]\n",
    "    s_mat = img[:,:,1]\n",
    "    v_mat = img[:,:,2]\n",
    "    number_of_nonblackpixels = np.count_nonzero(v_mat)\n",
    "    average_h = h_mat[np.nonzero(h_mat)].mean()\n",
    "    average_s = s_mat[np.nonzero(s_mat)].mean()\n",
    "    average_v = v_mat[np.nonzero(v_mat)].mean()\n",
    "    return number_of_nonblackpixels,average_h,average_s,average_v\n",
    "\n",
    "def getArclengthAreaRatio(img):\n",
    "    number_of_nonblackpixels = np.count_nonzero(img[:,:,2])\n",
    "    contours, hierarchy = cv.findContours(img[:,:,2],cv.RETR_EXTERNAL,cv.CHAIN_APPROX_SIMPLE)\n",
    "    total_arclength = 0\n",
    "    for i in contours:\n",
    "        total_arclength += cv.arcLength(i,True)\n",
    "\n",
    "    return total_arclength\n",
    "\n",
    "def whitePixelsAreaRatio(img):\n",
    "    \n",
    "    number_of_nonblackpixels = np.count_nonzero(img[:,:,2])\n",
    "    return len(np.where(img[:,:,2]>250))/number_of_nonblackpixels\n",
    "\n",
    "# countours,c_sort_by_x,c_sort_by_y=contourprep(img3)\n",
    "\n",
    "\n",
    "\n",
    "\n",
    "\n",
    "# countours,c_sort_by_x,c_sort_by_y=contourprep(cv_image)\n",
    "#basewidth_Height_base_midpoint = getBaseWidthAndHeight(c_sort_by_y)\n",
    "#print(basewidth_Height_base_midpoint,getSymmetryScore(c_sort_by_x,basewidth_Height_base_midpoint[\"base_midpoint\"]))\n",
    "print('Fireimg1',getArclengthAreaRatio(fire_img1))\n",
    "print('Flameimg1',getArclengthAreaRatio(flame_img1))\n",
    "print('Fireimg2',getArclengthAreaRatio(fire_img2))\n",
    "print('Flameimg2',getArclengthAreaRatio(flame_img2))\n",
    "\n",
    "#basewidth_Height_base_midpoint = getBaseWidthAndHeight(c_sort_by_y)\n",
    "#print(fire,getSymmetryScore(c_sort_by_x,fire[\"base_midpoint\"]))\n",
    "#print('\\n')\n",
    "#print(getArclengthAreaRatio(img3))\n",
    "#print('\\n')\n",
    "\n",
    "#getSymmetryScore(c_sort_by_x,fire[\"base_midpoint\"])\n",
    "# img3 = img3.astype(np.uint8)\n",
    "# img3 = cv.drawContours(img3, c, -1, (0,255,0), 3)\n",
    "\n"
   ]
  },
  {
   "cell_type": "code",
   "execution_count": null,
   "metadata": {},
   "outputs": [
    {
     "name": "stdout",
     "output_type": "stream",
     "text": [
      "443341 518400\n"
     ]
    }
   ],
   "source": [
    "print(np.count_nonzero(img3),img3.shape[0]*img3.shape[1])\n"
   ]
  },
  {
   "cell_type": "code",
   "execution_count": 11,
   "metadata": {},
   "outputs": [],
   "source": [
    "cv.imshow('Pred',img4)\n",
    "\n",
    "\n",
    "\n",
    "\n",
    "\n",
    "cv.waitKey(0)\n",
    "cv.destroyAllWindows()"
   ]
  },
  {
   "cell_type": "code",
   "execution_count": 17,
   "metadata": {},
   "outputs": [
    {
     "name": "stderr",
     "output_type": "stream",
     "text": [
      " 14%|█▍        | 5/36 [00:00<00:00, 48.27it/s]"
     ]
    },
    {
     "name": "stdout",
     "output_type": "stream",
     "text": [
      "{'width': 750, 'height': 373, 'base_midpoint': 476} 0.2316798767509274\n",
      "0.06419028811669683\n",
      "{'width': 577, 'height': 466, 'base_midpoint': 449} 0.4306223076222741\n",
      "0.09042281088028258\n",
      "{'width': 959, 'height': 539, 'base_midpoint': 479} 0.0010427528675703858\n",
      "0.008034990619406067\n",
      "{'width': 959, 'height': 411, 'base_midpoint': 479} 0.03351104341203351\n",
      "0.054404252098416504\n",
      "{'width': 959, 'height': 425, 'base_midpoint': 479} 0.03141375772867164\n",
      "0.04816821721882144\n",
      "{'width': 540, 'height': 352, 'base_midpoint': 622} 0.2010226580530032\n",
      "0.14183871549258553\n",
      "{'width': 959, 'height': 539, 'base_midpoint': 479} 0.0010427528675703858\n",
      "0.008023871264136107\n",
      "{'width': 959, 'height': 422, 'base_midpoint': 479} 0.9263204725771769\n",
      "0.03364635435407984\n",
      "{'width': 959, 'height': 458, 'base_midpoint': 479} 0.17385828424491295\n",
      "0.08685857315316028\n",
      "{'width': 497, 'height': 360, 'base_midpoint': 483} 0.11470396491436022\n",
      "0.1049975957116487\n",
      "{'width': 519, 'height': 267, 'base_midpoint': 407} 0.1778521834910649\n"
     ]
    },
    {
     "name": "stderr",
     "output_type": "stream",
     "text": [
      " 44%|████▍     | 16/36 [00:00<00:00, 47.96it/s]"
     ]
    },
    {
     "name": "stdout",
     "output_type": "stream",
     "text": [
      "0.09098494911167553\n",
      "{'width': 111, 'height': 257, 'base_midpoint': 479} 0.08571428571428572\n",
      "0.06823523216075321\n",
      "{'width': 227, 'height': 152, 'base_midpoint': 535} 0.03991277340910593\n",
      "0.09347653664592888\n",
      "{'width': 86, 'height': 244, 'base_midpoint': 134} 0.541258557997838\n",
      "0.23739486027554418\n",
      "{'width': 305, 'height': 276, 'base_midpoint': 647} 0.025544954742683507\n",
      "0.13036238379318973\n",
      "{'width': 365, 'height': 300, 'base_midpoint': 664} 0.5754056838670902\n",
      "0.12127785591167764\n",
      "{'width': 464, 'height': 403, 'base_midpoint': 501} 0.18725848067250872\n",
      "0.052685122468132346\n",
      "{'width': 365, 'height': 329, 'base_midpoint': 584} 0.003948782653395018\n",
      "0.057210891930702924\n",
      "{'width': 555, 'height': 224, 'base_midpoint': 681} 0.045959028915352196\n",
      "0.09107868178705993\n",
      "{'width': 227, 'height': 407, 'base_midpoint': 458} 0.11983896495029119\n"
     ]
    },
    {
     "name": "stderr",
     "output_type": "stream",
     "text": [
      " 72%|███████▏  | 26/36 [00:00<00:00, 44.86it/s]"
     ]
    },
    {
     "name": "stdout",
     "output_type": "stream",
     "text": [
      "0.04798023239906696\n",
      "{'width': 175, 'height': 347, 'base_midpoint': 457} 0.405534186807509\n",
      "0.054781961319157496\n",
      "{'width': 959, 'height': 424, 'base_midpoint': 479} 0.5595703581907989\n",
      "0.19373086100819997\n",
      "{'width': 959, 'height': 358, 'base_midpoint': 479} 0.945305351397621\n",
      "0.031901835927764584\n",
      "{'width': 383, 'height': 289, 'base_midpoint': 191} 0.822933557625042\n",
      "0.0873991951771266\n",
      "{'width': 762, 'height': 401, 'base_midpoint': 381} 0.35548080255927994\n",
      "0.10678096684156886\n",
      "{'width': 232, 'height': 415, 'base_midpoint': 483} 0.16726355611601512\n",
      "0.04750278880327988\n",
      "{'width': 238, 'height': 195, 'base_midpoint': 719} 0.8342001576044129\n",
      "0.05831698254073244\n",
      "{'width': 959, 'height': 348, 'base_midpoint': 479} 0.1377586370861467\n",
      "0.1572497019113991\n",
      "{'width': 264, 'height': 366, 'base_midpoint': 487} 0.009339460236129749\n",
      "0.04287157610595832\n",
      "{'width': 399, 'height': 205, 'base_midpoint': 471} 0.10390101391991752\n",
      "0.06183605025720864\n"
     ]
    },
    {
     "name": "stderr",
     "output_type": "stream",
     "text": [
      "100%|██████████| 36/36 [00:00<00:00, 49.59it/s]"
     ]
    },
    {
     "name": "stdout",
     "output_type": "stream",
     "text": [
      "{'width': 959, 'height': 45, 'base_midpoint': 479} 0.2938876639465369\n",
      "0.14442154467169943\n",
      "{'width': 295, 'height': 262, 'base_midpoint': 629} 0.25074249115467057\n",
      "0.10919379198355361\n",
      "{'width': 959, 'height': 45, 'base_midpoint': 479} 0.12979144683020524\n",
      "0.13435886734520325\n",
      "{'width': 319, 'height': 399, 'base_midpoint': 684} 0.1356570326739432\n",
      "0.17230997394141062\n",
      "{'width': 175, 'height': 176, 'base_midpoint': 470} 0.0280643026740882\n",
      "0.13904584896601208\n",
      "{'width': 959, 'height': 45, 'base_midpoint': 479} 0.28753892101417045\n",
      "0.15830875873211533\n"
     ]
    },
    {
     "name": "stderr",
     "output_type": "stream",
     "text": [
      "\n"
     ]
    }
   ],
   "source": [
    "import re\n",
    "import os\n",
    "import numpy as np\n",
    "import cv2 as cv\n",
    "\n",
    "import math\n",
    "folder='/home/omkar/FireClassifier/segmented_imgs/img/Fire'\n",
    "images=[]\n",
    "filename1 = ''\n",
    "i=0\n",
    "\n",
    "\n",
    "\n",
    "\n",
    "\n",
    "def sorted_alphanumeric(data):\n",
    "    convert = lambda text: int(text) if text.isdigit() else text.lower()\n",
    "    alphanum_key = lambda key: [ convert(c) for c in re.split('([0-9]+)', key) ] \n",
    "    return sorted(data, key=alphanum_key)\n",
    "\n",
    "def contourprep(img):\n",
    "    img = img[:,:,2]\n",
    "    img = cv.blur(img,(10,10))\n",
    "    contours, hierarchy = cv.findContours(img,cv.RETR_EXTERNAL,cv.CHAIN_APPROX_SIMPLE)\n",
    "    c_selected = contours[0]\n",
    "    for i in contours:\n",
    "        if len(c_selected)< len(i): \n",
    "            c_selected = i\n",
    "\n",
    "    c = list(c_selected)\n",
    "    c_sort_by_y = sorted(c,key = lambda x : x[0][1])\n",
    "    c_sort_by_x = sorted(c,key = lambda x : x[0][0])\n",
    "    return contours,c_sort_by_x,c_sort_by_y\n",
    "    \n",
    "    \n",
    "\n",
    "    \n",
    "def getBaseWidthAndHeight(arr:list):\n",
    "    min_y = arr[len(arr)-1][0][1]\n",
    "    max_y = arr[0][0][1]\n",
    "    range = (min_y - max_y)/4\n",
    "    min_x = arr[len(arr)-1][0][0]\n",
    "    max_x = arr[len(arr)-1][0][0]\n",
    "    #print('hehe',max_x,min_x,range,max_y,min_y,min_y-range)\n",
    "\n",
    "    \n",
    "    i = len(arr)-1\n",
    "    while i >= 0:\n",
    "        if(arr[i][0][1] < int(min_y-range)):\n",
    "            break\n",
    "        if(arr[i][0][0] > max_x):\n",
    "            max_x = arr[i][0][0]\n",
    "        if(arr[i][0][0] < min_x):\n",
    "            min_x = arr[i][0][0]\n",
    "        i = i -1\n",
    "    midpoint = math.floor((min_x + max_x)/2)\n",
    "\n",
    "    return {\"width\":max_x - min_x,\"height\":min_y-max_y,\"base_midpoint\":midpoint}\n",
    "\n",
    "\n",
    "\n",
    "def getSymmetryScore(arr:list,base_midpoint):\n",
    "    \n",
    "\n",
    "    min_x = arr[len(arr)-1][0][0]\n",
    "    max_x = arr[0][0][0]\n",
    "    mean = base_midpoint\n",
    "    left_area = 0\n",
    "    right_area = 0\n",
    "\n",
    "    for i in range(0,len(arr)):\n",
    "        if arr[i][0][0] < mean:\n",
    "            left_area += mean-arr[i][0][0]\n",
    "        else:\n",
    "            right_area += arr[i][0][0]-mean\n",
    "    return abs(left_area-right_area)/(left_area+right_area)\n",
    "\n",
    "def getAttrributes(img):\n",
    "    h_mat = img[:,:,0]\n",
    "    s_mat = img[:,:,1]\n",
    "    v_mat = img[:,:,2]\n",
    "    number_of_nonblackpixels = np.count_nonzero(v_mat)\n",
    "    average_h = h_mat[np.nonzero(h_mat)].mean()\n",
    "    average_s = s_mat[np.nonzero(s_mat)].mean()\n",
    "    average_v = v_mat[np.nonzero(v_mat)].mean()\n",
    "    return number_of_nonblackpixels,average_h,average_s,average_v\n",
    "\n",
    "def getArclengthAreaRatio(img):\n",
    "    number_of_nonblackpixels = np.count_nonzero(img[:,:,2])\n",
    "    contours, hierarchy = cv.findContours(img[:,:,2],cv.RETR_EXTERNAL,cv.CHAIN_APPROX_SIMPLE)\n",
    "    total_arclength = 0\n",
    "    for i in contours:\n",
    "        total_arclength += cv.arcLength(i,True)\n",
    "\n",
    "    return total_arclength/number_of_nonblackpixels\n",
    "\n",
    "def whitePixelsAreaRatio(img):\n",
    "    \n",
    "    number_of_nonblackpixels = np.count_nonzero(img[:,:,2])\n",
    "    return len(np.where(img[:,:,2]>250))/number_of_nonblackpixels\n",
    "\n",
    "\n",
    "\n",
    "\n",
    "non_masked_images = os.listdir(folder)\n",
    "non_masked_images = sorted_alphanumeric(non_masked_images)\n",
    "for img in non_masked_images:\n",
    "        \n",
    "        cv_image = cv.imread(folder+\"/\"+img)\n",
    "        if cv_image is not None:\n",
    "            countours,c_sort_by_x,c_sort_by_y=contourprep(cv_image)\n",
    "            basewidth_Height_base_midpoint = getBaseWidthAndHeight(c_sort_by_y)\n",
    "            print(basewidth_Height_base_midpoint,getSymmetryScore(c_sort_by_x,basewidth_Height_base_midpoint[\"base_midpoint\"]))\n",
    "\n",
    "            print(getArclengthAreaRatio(cv_image))\n",
    "\n",
    "                \n",
    "            #cv.imwrite(filename1+\"Flame\" + str(i)+ \".jpg\", output)\n",
    "            i=i+1"
   ]
  },
  {
   "cell_type": "code",
   "execution_count": null,
   "metadata": {},
   "outputs": [],
   "source": []
  }
 ],
 "metadata": {
  "kernelspec": {
   "display_name": "Python 3.9.16 ('tf2')",
   "language": "python",
   "name": "python3"
  },
  "language_info": {
   "codemirror_mode": {
    "name": "ipython",
    "version": 3
   },
   "file_extension": ".py",
   "mimetype": "text/x-python",
   "name": "python",
   "nbconvert_exporter": "python",
   "pygments_lexer": "ipython3",
   "version": "3.9.16"
  },
  "orig_nbformat": 4,
  "vscode": {
   "interpreter": {
    "hash": "ed9ca85d4bfbbd06ad1fd45b698e05a94a8f346ef6c7ca06b6089ee8a1453e2e"
   }
  }
 },
 "nbformat": 4,
 "nbformat_minor": 2
}
