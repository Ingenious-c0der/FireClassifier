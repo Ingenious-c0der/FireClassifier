{
 "cells": [
  {
   "cell_type": "code",
   "execution_count": 2,
   "metadata": {},
   "outputs": [],
   "source": [
    "import os\n",
    "import numpy as np\n",
    "import matplotlib.pyplot as plt\n",
    "from sklearn.metrics import confusion_matrix\n",
    "from keras.models import load_model\n",
    "import cv2\n",
    "from sklearn.metrics import confusion_matrix,precision_score,recall_score"
   ]
  },
  {
   "cell_type": "code",
   "execution_count": 3,
   "metadata": {},
   "outputs": [],
   "source": [
    "IMAGE_SIZE = 150\n",
    "def generate_SSF_Array(img) -> np.ndarray:\n",
    "    hsv = cv2.cvtColor(img, cv2.COLOR_BGR2HSV)\n",
    "    lower_yellow = np.array([20, 100, 200])\n",
    "    upper_yellow = np.array([30, 255, 255])\n",
    "    lower_orange = np.array([5, 50, 200])\n",
    "    upper_orange = np.array([10, 255, 255])\n",
    "    mask1 = cv2.inRange(hsv, lower_orange, upper_orange)\n",
    "    mask2 = cv2.inRange(hsv, lower_yellow, upper_yellow)\n",
    "    pixel_count1 = np.sum(mask1, axis=0)\n",
    "    pixel_count2 = np.sum(mask2, axis=0)\n",
    "    pixel_count = pixel_count1 + pixel_count2\n",
    "    # Calculate the standard deviation of pixel_count values\n",
    "    std_dev = np.std(pixel_count)\n",
    "    # Detect sudden spikes in pixel_count values\n",
    "    spike_indices = []\n",
    "    fall_indices = []\n",
    "    for i in range(len(pixel_count)):\n",
    "        if pixel_count[i] > 100 and np.mean(pixel_count[i-2:i]) < 10:\n",
    "            spike_indices.append(i)\n",
    "        elif pixel_count[i] < 10 and np.mean(pixel_count[i-1:i]) > 100:\n",
    "            fall_indices.append(i)\n",
    "    return np.array([std_dev,len(spike_indices),len(fall_indices)])"
   ]
  },
  {
   "cell_type": "code",
   "execution_count": 4,
   "metadata": {},
   "outputs": [],
   "source": [
    "flame_dir = \"Flame_cropped/\"\n",
    "fire_dir = \"Fire_full/\"\n",
    "\n",
    "def prep_img(file_path):\n",
    "    IMG_SIZE = 150  # 50 in txt-based\n",
    "    img_array = cv2.imread(file_path)\n",
    "    new_array = cv2.resize(img_array, (IMG_SIZE, IMG_SIZE))\n",
    "    via_array = generate_SSF_Array(new_array)\n",
    "    return [new_array.reshape(-1, IMG_SIZE, IMG_SIZE, 3),np.array([via_array])]"
   ]
  },
  {
   "cell_type": "code",
   "execution_count": 5,
   "metadata": {},
   "outputs": [],
   "source": [
    "flame_files = os.listdir(flame_dir)\n",
    "fire_files = os.listdir(fire_dir)\n",
    "\n",
    "model = load_model(\"64x2-CNN_impure_ssf.model\")"
   ]
  },
  {
   "cell_type": "code",
   "execution_count": 6,
   "metadata": {},
   "outputs": [
    {
     "name": "stderr",
     "output_type": "stream",
     "text": [
      "c:\\Users\\sagar\\AppData\\Local\\Programs\\Python\\Python39\\lib\\site-packages\\numpy\\core\\fromnumeric.py:3440: RuntimeWarning: Mean of empty slice.\n",
      "  return _methods._mean(a, axis=axis, dtype=dtype,\n",
      "c:\\Users\\sagar\\AppData\\Local\\Programs\\Python\\Python39\\lib\\site-packages\\numpy\\core\\_methods.py:189: RuntimeWarning: invalid value encountered in double_scalars\n",
      "  ret = ret.dtype.type(ret / rcount)\n"
     ]
    }
   ],
   "source": [
    "y_pred = []\n",
    "y_true = []\n",
    "for filename in flame_files:\n",
    "    img = prep_img(flame_dir + filename)\n",
    "    prediction = model.predict(img)\n",
    "    y_pred.append(int(prediction[0][1]))\n",
    "    y_true.append(1)  # 1 represents \"flame\" class\n",
    "\n",
    "for filename in fire_files:\n",
    "    img = prep_img(fire_dir + filename)\n",
    "    prediction = model.predict(img)\n",
    "    y_pred.append(int(prediction[0][1]))\n",
    "    y_true.append(0)  # 0 represents \"fire\" class\n",
    "\n",
    "y_true = np.array(y_true)\n",
    "y_pred = np.array(y_pred)"
   ]
  },
  {
   "cell_type": "code",
   "execution_count": 7,
   "metadata": {},
   "outputs": [
    {
     "name": "stdout",
     "output_type": "stream",
     "text": [
      "[[746   9]\n",
      " [148 334]]\n",
      "Accuracy:  0.8730800323362975\n",
      "Precision:  0.9737609329446064\n",
      "Recall:  0.6929460580912863\n"
     ]
    },
    {
     "data": {
      "image/png": "[encoded data removed]",
      "text/plain": [
       "<Figure size 288x288 with 2 Axes>"
      ]
     },
     "metadata": {
      "needs_background": "light"
     },
     "output_type": "display_data"
    }
   ],
   "source": [
    "cm = confusion_matrix(y_true, y_pred)\n",
    "print(cm)\n",
    "print(\"Accuracy: \",(cm[0][0]+cm[1][1])/np.sum(cm))\n",
    "print(\"Precision: \",precision_score(y_true, y_pred))\n",
    "print(\"Recall: \",recall_score(y_true, y_pred))\n",
    "plt.matshow(cm)\n",
    "plt.title('Confusion matrix')\n",
    "plt.colorbar()\n",
    "plt.ylabel('True label')\n",
    "plt.xlabel('Predicted label')\n",
    "plt.show()"
   ]
  }
 ],
 "metadata": {
  "kernelspec": {
   "display_name": "Python 3",
   "language": "python",
   "name": "python3"
  },
  "language_info": {
   "codemirror_mode": {
    "name": "ipython",
    "version": 3
   },
   "file_extension": ".py",
   "mimetype": "text/x-python",
   "name": "python",
   "nbconvert_exporter": "python",
   "pygments_lexer": "ipython3",
   "version": "3.9.1"
  },
  "orig_nbformat": 4
 },
 "nbformat": 4,
 "nbformat_minor": 2
}
