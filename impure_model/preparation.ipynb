{
 "cells": [
  {
   "cell_type": "code",
   "execution_count": 1,
   "metadata": {},
   "outputs": [],
   "source": [
    "import numpy as np\n",
    "import cv2\n",
    "import os\n",
    "import random\n",
    "import matplotlib.pyplot as plt \n",
    "import pickle"
   ]
  },
  {
   "cell_type": "code",
   "execution_count": 2,
   "metadata": {},
   "outputs": [],
   "source": [
    "CATEGORIES = [\"FIRE\", \"FLAME_CROPPED\"]"
   ]
  },
  {
   "cell_type": "code",
   "execution_count": 3,
   "metadata": {},
   "outputs": [],
   "source": [
    "IMAGE_SIZE = 150\n",
    "\n",
    "data = []\n",
    "for category in CATEGORIES:\n",
    "    label = CATEGORIES.index(category)\n",
    "    for image in os.listdir(category):\n",
    "        img_array = cv2.imread(os.path.join(category, image))\n",
    "        img_array = cv2.resize(img_array, (IMAGE_SIZE, IMAGE_SIZE))\n",
    "        data.append([img_array, label])\n"
   ]
  },
  {
   "cell_type": "code",
   "execution_count": 4,
   "metadata": {},
   "outputs": [
    {
     "data": {
      "text/plain": [
       "932"
      ]
     },
     "execution_count": 4,
     "metadata": {},
     "output_type": "execute_result"
    }
   ],
   "source": [
    "len(data)"
   ]
  },
  {
   "cell_type": "code",
   "execution_count": 5,
   "metadata": {},
   "outputs": [],
   "source": [
    "random.shuffle(data)"
   ]
  },
  {
   "cell_type": "code",
   "execution_count": 6,
   "metadata": {},
   "outputs": [
    {
     "data": {
      "text/plain": [
       "[array([[[ 12,  18,  23],\n",
       "         [  8,  15,  18],\n",
       "         [ 10,  19,  33],\n",
       "         ...,\n",
       "         [ 96,  91,  62],\n",
       "         [ 68,  65,  78],\n",
       "         [ 41,  53,  99]],\n",
       " \n",
       "        [[ 14,  28,  31],\n",
       "         [ 10,  21,  27],\n",
       "         [ 12,  19,  34],\n",
       "         ...,\n",
       "         [ 67,  64,  90],\n",
       "         [100,  98, 100],\n",
       "         [ 42,  45,  69]],\n",
       " \n",
       "        [[ 15,  23,  23],\n",
       "         [  8,  22,  28],\n",
       "         [ 12,  18,  22],\n",
       "         ...,\n",
       "         [164, 167, 180],\n",
       "         [166, 169, 184],\n",
       "         [ 26,  25,  41]],\n",
       " \n",
       "        ...,\n",
       " \n",
       "        [[ 19,  35,  33],\n",
       "         [ 15,  18,  19],\n",
       "         [ 10,  11,  11],\n",
       "         ...,\n",
       "         [ 10,  17,  22],\n",
       "         [  9,  15,  14],\n",
       "         [  7,  13,  28]],\n",
       " \n",
       "        [[ 10,  14,  19],\n",
       "         [ 16,  17,  18],\n",
       "         [  9,  10,  17],\n",
       "         ...,\n",
       "         [  7,  11,  13],\n",
       "         [  6,   9,  13],\n",
       "         [  6,  11,  35]],\n",
       " \n",
       "        [[  7,  17,  15],\n",
       "         [  6,   9,  13],\n",
       "         [  9,  12,  16],\n",
       "         ...,\n",
       "         [ 12,  23,  41],\n",
       "         [  5,  14,  29],\n",
       "         [  4,  16,  28]]], dtype=uint8),\n",
       " 0]"
      ]
     },
     "execution_count": 6,
     "metadata": {},
     "output_type": "execute_result"
    }
   ],
   "source": [
    "data[0]"
   ]
  },
  {
   "cell_type": "code",
   "execution_count": 7,
   "metadata": {},
   "outputs": [],
   "source": [
    "P = []\n",
    "Q = []\n",
    "\n",
    "for features,labels in data:\n",
    "    P.append(features)\n",
    "    Q.append(labels)\n",
    "\n",
    "\n"
   ]
  },
  {
   "cell_type": "code",
   "execution_count": 8,
   "metadata": {},
   "outputs": [],
   "source": [
    "P = np.array(P)\n",
    "Q = np.array(Q)"
   ]
  },
  {
   "cell_type": "code",
   "execution_count": 9,
   "metadata": {},
   "outputs": [
    {
     "data": {
      "text/plain": [
       "(932, 150, 150, 3)"
      ]
     },
     "execution_count": 9,
     "metadata": {},
     "output_type": "execute_result"
    }
   ],
   "source": [
    "P.shape"
   ]
  },
  {
   "cell_type": "code",
   "execution_count": 10,
   "metadata": {},
   "outputs": [
    {
     "data": {
      "text/plain": [
       "1"
      ]
     },
     "execution_count": 10,
     "metadata": {},
     "output_type": "execute_result"
    }
   ],
   "source": [
    "Q.ndim"
   ]
  },
  {
   "cell_type": "code",
   "execution_count": 11,
   "metadata": {},
   "outputs": [],
   "source": [
    "pickle.dump(P, open(\"A.pkl\", \"wb\"))\n",
    "pickle.dump(Q, open(\"B.pkl\", \"wb\"))"
   ]
  }
 ],
 "metadata": {
  "kernelspec": {
   "display_name": "Python 3",
   "language": "python",
   "name": "python3"
  },
  "language_info": {
   "codemirror_mode": {
    "name": "ipython",
    "version": 3
   },
   "file_extension": ".py",
   "mimetype": "text/x-python",
   "name": "python",
   "nbconvert_exporter": "python",
   "pygments_lexer": "ipython3",
   "version": "3.9.1"
  },
  "orig_nbformat": 4
 },
 "nbformat": 4,
 "nbformat_minor": 2
}
