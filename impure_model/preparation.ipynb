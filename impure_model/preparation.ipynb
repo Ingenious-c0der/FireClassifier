{
 "cells": [
  {
   "cell_type": "code",
   "execution_count": 1,
   "metadata": {},
   "outputs": [],
   "source": [
    "import numpy as np\n",
    "import cv2\n",
    "import os\n",
    "import random\n",
    "import matplotlib.pyplot as plt \n",
    "import pickle"
   ]
  },
  {
   "cell_type": "code",
   "execution_count": 2,
   "metadata": {},
   "outputs": [],
   "source": [
    "CATEGORIES = [\"FIRE\", \"FLAME_CROPPED\"]"
   ]
  },
  {
   "cell_type": "code",
   "execution_count": 3,
   "metadata": {},
   "outputs": [],
   "source": [
    "IMAGE_SIZE = 150\n",
    "\n",
    "data = []\n",
    "for category in CATEGORIES:\n",
    "    label = CATEGORIES.index(category)\n",
    "    for image in os.listdir(category):\n",
    "        img_array = cv2.imread(os.path.join(category, image))\n",
    "        img_array = cv2.resize(img_array, (IMAGE_SIZE, IMAGE_SIZE))\n",
    "        data.append([img_array, label])\n"
   ]
  },
  {
   "cell_type": "code",
   "execution_count": 4,
   "metadata": {},
   "outputs": [
    {
     "data": {
      "text/plain": [
       "932"
      ]
     },
     "execution_count": 4,
     "metadata": {},
     "output_type": "execute_result"
    }
   ],
   "source": [
    "len(data)"
   ]
  },
  {
   "cell_type": "code",
   "execution_count": 5,
   "metadata": {},
   "outputs": [],
   "source": [
    "random.shuffle(data)"
   ]
  },
  {
   "cell_type": "code",
   "execution_count": 6,
   "metadata": {},
   "outputs": [
    {
     "data": {
      "text/plain": [
       "[array([[[ 74,  71, 125],\n",
       "         [ 75,  71, 137],\n",
       "         [ 71,  67, 138],\n",
       "         ...,\n",
       "         [ 78,  83, 128],\n",
       "         [ 77,  84, 123],\n",
       "         [ 73,  81, 119]],\n",
       " \n",
       "        [[ 73,  70, 124],\n",
       "         [ 73,  69, 134],\n",
       "         [ 70,  67, 137],\n",
       "         ...,\n",
       "         [ 79,  84, 129],\n",
       "         [ 77,  84, 123],\n",
       "         [ 74,  80, 119]],\n",
       " \n",
       "        [[ 73,  69, 121],\n",
       "         [ 72,  66, 131],\n",
       "         [ 67,  63, 132],\n",
       "         ...,\n",
       "         [ 80,  85, 130],\n",
       "         [ 77,  84, 123],\n",
       "         [ 73,  81, 119]],\n",
       " \n",
       "        ...,\n",
       " \n",
       "        [[ 13,  16,  21],\n",
       "         [ 18,  21,  25],\n",
       "         [ 36,  40,  39],\n",
       "         ...,\n",
       "         [ 56, 101,  92],\n",
       "         [ 54, 102,  86],\n",
       "         [ 54, 102,  86]],\n",
       " \n",
       "        [[ 12,  15,  20],\n",
       "         [ 17,  20,  24],\n",
       "         [ 33,  38,  38],\n",
       "         ...,\n",
       "         [ 56, 101,  92],\n",
       "         [ 49, 102,  88],\n",
       "         [ 49, 102,  88]],\n",
       " \n",
       "        [[ 18,  21,  26],\n",
       "         [ 17,  20,  24],\n",
       "         [ 30,  35,  34],\n",
       "         ...,\n",
       "         [ 56, 101,  92],\n",
       "         [ 48, 103,  88],\n",
       "         [ 48, 103,  88]]], dtype=uint8),\n",
       " 0]"
      ]
     },
     "execution_count": 6,
     "metadata": {},
     "output_type": "execute_result"
    }
   ],
   "source": [
    "data[0]"
   ]
  },
  {
   "cell_type": "code",
   "execution_count": 7,
   "metadata": {},
   "outputs": [],
   "source": [
    "P = []\n",
    "Q = []\n",
    "\n",
    "for features,labels in data:\n",
    "    P.append(features)\n",
    "    Q.append(labels)\n",
    "\n",
    "\n"
   ]
  },
  {
   "cell_type": "code",
   "execution_count": 8,
   "metadata": {},
   "outputs": [],
   "source": [
    "P = np.array(P)\n",
    "Q = np.array(Q)"
   ]
  },
  {
   "cell_type": "code",
   "execution_count": 9,
   "metadata": {},
   "outputs": [
    {
     "data": {
      "text/plain": [
       "(932, 150, 150, 3)"
      ]
     },
     "execution_count": 9,
     "metadata": {},
     "output_type": "execute_result"
    }
   ],
   "source": [
    "P.shape"
   ]
  },
  {
   "cell_type": "code",
   "execution_count": 10,
   "metadata": {},
   "outputs": [
    {
     "data": {
      "text/plain": [
       "1"
      ]
     },
     "execution_count": 10,
     "metadata": {},
     "output_type": "execute_result"
    }
   ],
   "source": [
    "Q.ndim"
   ]
  },
  {
   "cell_type": "code",
   "execution_count": 11,
   "metadata": {},
   "outputs": [],
   "source": [
    "pickle.dump(P, open(\"A.pkl\", \"wb\"))\n",
    "pickle.dump(Q, open(\"B.pkl\", \"wb\"))"
   ]
  }
 ],
 "metadata": {
  "kernelspec": {
   "display_name": "Python 3",
   "language": "python",
   "name": "python3"
  },
  "language_info": {
   "codemirror_mode": {
    "name": "ipython",
    "version": 3
   },
   "file_extension": ".py",
   "mimetype": "text/x-python",
   "name": "python",
   "nbconvert_exporter": "python",
   "pygments_lexer": "ipython3",
   "version": "3.9.1"
  },
  "orig_nbformat": 4
 },
 "nbformat": 4,
 "nbformat_minor": 2
}
