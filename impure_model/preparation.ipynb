{
 "cells": [
  {
   "cell_type": "code",
   "execution_count": 1,
   "metadata": {},
   "outputs": [],
   "source": [
    "import numpy as np\n",
    "import cv2\n",
    "import os\n",
    "import random\n",
    "import matplotlib.pyplot as plt \n",
    "import pickle"
   ]
  },
  {
   "cell_type": "code",
   "execution_count": 2,
   "metadata": {},
   "outputs": [],
   "source": [
    "CATEGORIES = [\"FIRE\", \"FLAME_CROPPED\"]"
   ]
  },
  {
   "cell_type": "code",
   "execution_count": 3,
   "metadata": {},
   "outputs": [],
   "source": [
    "IMAGE_SIZE = 150\n",
    "\n",
    "data = []\n",
    "for category in CATEGORIES:\n",
    "    label = CATEGORIES.index(category)\n",
    "    for image in os.listdir(category):\n",
    "        img_array = cv2.imread(os.path.join(category, image))\n",
    "        img_array = cv2.resize(img_array, (IMAGE_SIZE, IMAGE_SIZE))\n",
    "        data.append([img_array, label])\n"
   ]
  },
  {
   "cell_type": "code",
   "execution_count": 4,
   "metadata": {},
   "outputs": [
    {
     "data": {
      "text/plain": [
       "932"
      ]
     },
     "execution_count": 4,
     "metadata": {},
     "output_type": "execute_result"
    }
   ],
   "source": [
    "len(data)"
   ]
  },
  {
   "cell_type": "code",
   "execution_count": 5,
   "metadata": {},
   "outputs": [],
   "source": [
    "random.shuffle(data)"
   ]
  },
  {
   "cell_type": "code",
   "execution_count": 6,
   "metadata": {},
   "outputs": [
    {
     "data": {
      "text/plain": [
       "[array([[[ 1, 11, 35],\n",
       "         [ 2, 10, 30],\n",
       "         [ 2,  9, 28],\n",
       "         ...,\n",
       "         [ 0,  5,  8],\n",
       "         [ 1,  5, 10],\n",
       "         [ 0,  6, 13]],\n",
       " \n",
       "        [[ 0,  9, 23],\n",
       "         [ 4, 13, 33],\n",
       "         [ 2, 10, 30],\n",
       "         ...,\n",
       "         [ 0,  4,  7],\n",
       "         [ 1,  6, 11],\n",
       "         [ 0,  9, 16]],\n",
       " \n",
       "        [[ 1, 11, 15],\n",
       "         [ 0, 10, 29],\n",
       "         [ 4, 15, 36],\n",
       "         ...,\n",
       "         [ 0,  4,  7],\n",
       "         [ 3, 11, 16],\n",
       "         [ 2, 14, 20]],\n",
       " \n",
       "        ...,\n",
       " \n",
       "        [[29, 35, 42],\n",
       "         [ 1,  7, 13],\n",
       "         [24, 29, 44],\n",
       "         ...,\n",
       "         [ 9, 13, 18],\n",
       "         [ 7, 11, 15],\n",
       "         [ 5,  9, 13]],\n",
       " \n",
       "        [[27, 32, 41],\n",
       "         [ 0,  6, 13],\n",
       "         [22, 27, 42],\n",
       "         ...,\n",
       "         [ 1,  6, 10],\n",
       "         [ 0,  6,  5],\n",
       "         [ 2,  8,  7]],\n",
       " \n",
       "        [[35, 40, 49],\n",
       "         [ 6, 11, 20],\n",
       "         [27, 31, 49],\n",
       "         ...,\n",
       "         [ 1,  6,  9],\n",
       "         [ 1,  5,  8],\n",
       "         [ 7, 12, 15]]], dtype=uint8),\n",
       " 0]"
      ]
     },
     "execution_count": 6,
     "metadata": {},
     "output_type": "execute_result"
    }
   ],
   "source": [
    "data[0]"
   ]
  },
  {
   "cell_type": "code",
   "execution_count": 7,
   "metadata": {},
   "outputs": [],
   "source": [
    "P = []\n",
    "Q = []\n",
    "\n",
    "for features,labels in data:\n",
    "    P.append(features)\n",
    "    Q.append(labels)\n",
    "\n",
    "\n"
   ]
  },
  {
   "cell_type": "code",
   "execution_count": 8,
   "metadata": {},
   "outputs": [],
   "source": [
    "P = np.array(P)\n",
    "Q = np.array(Q)"
   ]
  },
  {
   "cell_type": "code",
   "execution_count": 9,
   "metadata": {},
   "outputs": [
    {
     "data": {
      "text/plain": [
       "(932, 150, 150, 3)"
      ]
     },
     "execution_count": 9,
     "metadata": {},
     "output_type": "execute_result"
    }
   ],
   "source": [
    "P.shape"
   ]
  },
  {
   "cell_type": "code",
   "execution_count": 10,
   "metadata": {},
   "outputs": [
    {
     "data": {
      "text/plain": [
       "1"
      ]
     },
     "execution_count": 10,
     "metadata": {},
     "output_type": "execute_result"
    }
   ],
   "source": [
    "Q.ndim"
   ]
  },
  {
   "cell_type": "code",
   "execution_count": 11,
   "metadata": {},
   "outputs": [],
   "source": [
    "pickle.dump(P, open(\"A.pkl\", \"wb\"))\n",
    "pickle.dump(Q, open(\"B.pkl\", \"wb\"))"
   ]
  }
 ],
 "metadata": {
  "kernelspec": {
   "display_name": "Python 3",
   "language": "python",
   "name": "python3"
  },
  "language_info": {
   "codemirror_mode": {
    "name": "ipython",
    "version": 3
   },
   "file_extension": ".py",
   "mimetype": "text/x-python",
   "name": "python",
   "nbconvert_exporter": "python",
   "pygments_lexer": "ipython3",
   "version": "3.9.1"
  },
  "orig_nbformat": 4
 },
 "nbformat": 4,
 "nbformat_minor": 2
}
