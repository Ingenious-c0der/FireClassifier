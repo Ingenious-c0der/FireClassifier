{
 "cells": [
  {
   "cell_type": "code",
   "execution_count": 1,
   "metadata": {},
   "outputs": [],
   "source": [
    "import pickle \n",
    "import numpy as np\n",
    "import cv2\n",
    "#file to generate VIA_intensity arrays "
   ]
  },
  {
   "cell_type": "code",
   "execution_count": 10,
   "metadata": {},
   "outputs": [],
   "source": [
    "\n",
    "IMAGE_SIZE = 150\n",
    "def generate_VIA_Array(img) -> np.ndarray:\n",
    "    hsv = cv2.cvtColor(img, cv2.COLOR_BGR2HSV)\n",
    "    lower_yellow = np.array([20, 100, 200])\n",
    "    upper_yellow = np.array([30, 255, 255])\n",
    "    lower_orange = np.array([5, 50, 200])\n",
    "    upper_orange = np.array([10, 255, 255])\n",
    "\n",
    "    mask1 = cv2.inRange(hsv, lower_orange, upper_orange)\n",
    "    mask2 = cv2.inRange(hsv, lower_yellow, upper_yellow)\n",
    "    pixel_count1 = np.sum(mask1, axis=0)\n",
    "    pixel_count2 = np.sum(mask2, axis=0)\n",
    "    pixel_count = pixel_count1 + pixel_count2\n",
    "    return pixel_count\n",
    "\n",
    "\n",
    "\n",
    "\n"
   ]
  },
  {
   "cell_type": "code",
   "execution_count": 7,
   "metadata": {},
   "outputs": [
    {
     "name": "stdout",
     "output_type": "stream",
     "text": [
      "[   0    0    0    0    0  510 1020    0  255  765 2295 1530 1275 2040\n",
      " 2550  765  255  255  510  510 2295 1275 1785 2040 1785 1275 1275 1530\n",
      "  255 1785 2295 2295  765  510 1530 3570 4590 4080 6630 8415 6630 5100\n",
      " 4080 3825 4080 3315 3315 3825 3825 4590 2805 3570 1530 1020 1275 1530\n",
      " 1275 2040 1785  765 2550 2805 4335 3060 6375 5610 5355 6885 6120 4845\n",
      " 5865 4845 5355 3315 4845 3060 2550 4590 4335 3825 4335    0 1020 1530\n",
      " 1020 1530 1020 1020 1020 2040 2040 2295 2550 3825  765 1530  255  765\n",
      " 1275 2040 2550  765 1275  765  765  255    0  255    0 2040 2805 3315\n",
      " 3315 4335 4080 2550 1530 2550 2040  255  510  765 2550 2295 1020  510\n",
      " 2805    0    0  510 1020 1275    0    0    0    0    0  765    0    0\n",
      "    0    0    0    0    0    0    0    0    0    0]\n"
     ]
    }
   ],
   "source": [
    "x = generate_VIA_Array(\"Flame_cropped/church-candles-red-yellow-transparent-260nw-84934867.jpg\")\n",
    "print(x)"
   ]
  },
  {
   "cell_type": "code",
   "execution_count": 8,
   "metadata": {},
   "outputs": [
    {
     "data": {
      "text/plain": [
       "(150,)"
      ]
     },
     "execution_count": 8,
     "metadata": {},
     "output_type": "execute_result"
    }
   ],
   "source": [
    "x.shape"
   ]
  },
  {
   "cell_type": "code",
   "execution_count": 11,
   "metadata": {},
   "outputs": [],
   "source": [
    "\n",
    "\n",
    "# Load the images from the pickle file\n",
    "# replace `path_to_X_pkl` with the path to your X.pkl file\n",
    "with open(\"A.pkl\", 'rb') as f:\n",
    "    A = pickle.load(f)\n",
    "\n",
    "# Create an empty list to store intensity arrays for each image\n",
    "intensity_arrays = []\n",
    "\n",
    "# Loop through each image and compute its intensity array using `ConvertToArray()`\n",
    "for img in A:\n",
    "    intensity_array = generate_VIA_Array(img)\n",
    "    intensity_arrays.append(intensity_array)\n",
    "\n",
    "# Save the list of intensity arrays to a pickle file\n",
    "# replace `path_to_intensity_pkl` with the desired path and filename for your intensity array pickle file\n",
    "with open(\"intensity.pkl\", 'wb') as f:\n",
    "    pickle.dump(intensity_arrays, f)"
   ]
  },
  {
   "cell_type": "code",
   "execution_count": 14,
   "metadata": {},
   "outputs": [
    {
     "data": {
      "text/plain": [
       "150"
      ]
     },
     "execution_count": 14,
     "metadata": {},
     "output_type": "execute_result"
    }
   ],
   "source": [
    "len(intensity_arrays[0])"
   ]
  },
  {
   "cell_type": "code",
   "execution_count": 15,
   "metadata": {},
   "outputs": [
    {
     "data": {
      "text/plain": [
       "932"
      ]
     },
     "execution_count": 15,
     "metadata": {},
     "output_type": "execute_result"
    }
   ],
   "source": [
    "len(intensity_arrays)"
   ]
  },
  {
   "cell_type": "code",
   "execution_count": null,
   "metadata": {},
   "outputs": [],
   "source": []
  }
 ],
 "metadata": {
  "kernelspec": {
   "display_name": "Python 3",
   "language": "python",
   "name": "python3"
  },
  "language_info": {
   "codemirror_mode": {
    "name": "ipython",
    "version": 3
   },
   "file_extension": ".py",
   "mimetype": "text/x-python",
   "name": "python",
   "nbconvert_exporter": "python",
   "pygments_lexer": "ipython3",
   "version": "3.9.1"
  },
  "orig_nbformat": 4
 },
 "nbformat": 4,
 "nbformat_minor": 2
}
