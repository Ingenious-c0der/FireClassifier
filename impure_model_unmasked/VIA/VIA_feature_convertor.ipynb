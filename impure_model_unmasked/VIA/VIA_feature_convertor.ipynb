{
 "cells": [
  {
   "cell_type": "code",
   "execution_count": 1,
   "metadata": {},
   "outputs": [],
   "source": [
    "import pickle \n",
    "import numpy as np\n",
    "import cv2\n",
    "#file to generate VIA_intensity arrays "
   ]
  },
  {
   "cell_type": "code",
   "execution_count": 2,
   "metadata": {},
   "outputs": [],
   "source": [
    "\n",
    "IMAGE_SIZE = 150\n",
    "def generate_VIA_Array(img) -> np.ndarray:\n",
    "    hsv = cv2.cvtColor(img, cv2.COLOR_BGR2HSV)\n",
    "    lower_yellow = np.array([20, 100, 200])\n",
    "    upper_yellow = np.array([30, 255, 255])\n",
    "    lower_orange = np.array([5, 50, 200])\n",
    "    upper_orange = np.array([10, 255, 255])\n",
    "\n",
    "    mask1 = cv2.inRange(hsv, lower_orange, upper_orange)\n",
    "    mask2 = cv2.inRange(hsv, lower_yellow, upper_yellow)\n",
    "    pixel_count1 = np.sum(mask1, axis=0)\n",
    "    pixel_count2 = np.sum(mask2, axis=0)\n",
    "    pixel_count = pixel_count1 + pixel_count2\n",
    "    return pixel_count\n",
    "\n",
    "\n",
    "\n",
    "\n"
   ]
  },
  {
   "cell_type": "code",
   "execution_count": 3,
   "metadata": {},
   "outputs": [],
   "source": [
    "# def generate_HIA_Array(img) -> np.ndarray:\n",
    "#     #resize to 150 by 150\n",
    "#     img = cv2.resize(img, (IMAGE_SIZE, IMAGE_SIZE))\n",
    "#     hsv = cv2.cvtColor(img, cv2.COLOR_BGR2HSV)\n",
    "#     lower_yellow = np.array([20, 100, 200])\n",
    "#     upper_yellow = np.array([30, 255, 255])\n",
    "#     lower_orange = np.array([5, 50, 200])\n",
    "#     upper_orange = np.array([10, 255, 255])\n",
    "\n",
    "#     mask1 = cv2.inRange(hsv, lower_orange, upper_orange)\n",
    "#     mask2 = cv2.inRange(hsv, lower_yellow, upper_yellow)\n",
    "#     pixel_count1 = np.sum(mask1, axis=1)\n",
    "#     pixel_count2 = np.sum(mask2, axis=1)\n",
    "#     pixel_count = pixel_count1 + pixel_count2\n",
    "#     return pixel_count\n"
   ]
  },
  {
   "cell_type": "code",
   "execution_count": 4,
   "metadata": {},
   "outputs": [],
   "source": [
    "# x = generate_HIA_Array(cv2.imread(\"Fire_full/fire.133.png\"))\n",
    "# print(x)\n",
    "# print(x.shape)\n",
    "# #plot the array\n",
    "# import matplotlib.pyplot as plt\n",
    "# plt.plot(x)\n",
    "# plt.show()"
   ]
  },
  {
   "cell_type": "code",
   "execution_count": 5,
   "metadata": {},
   "outputs": [],
   "source": [
    "# y = generate_HIA_Array(cv2.imread(\"Flame_cropped/burning-candle-on-table-darkness-260nw-1452419111.jpg\"))\n",
    "# print(y)\n",
    "# print(y.shape)\n",
    "# #plot the array\n",
    "# import matplotlib.pyplot as plt\n",
    "# plt.plot(y)\n",
    "# plt.show()"
   ]
  },
  {
   "cell_type": "code",
   "execution_count": 6,
   "metadata": {},
   "outputs": [],
   "source": [
    "\n",
    "\n",
    "# Load the images from the pickle file\n",
    "# replace `path_to_X_pkl` with the path to your X.pkl file\n",
    "with open(\"../unmasked_cropped.pkl\", 'rb') as f:\n",
    "    A = pickle.load(f)\n",
    "\n",
    "# Create an empty list to store intensity arrays for each image\n",
    "intensity_arrays = []\n",
    "\n",
    "# Loop through each image and compute its intensity array using `ConvertToArray()`\n",
    "for img in A:\n",
    "    intensity_array = generate_VIA_Array(img)\n",
    "    intensity_arrays.append(intensity_array)\n",
    "\n",
    "# Save the list of intensity arrays to a pickle file\n",
    "# replace `path_to_intensity_pkl` with the desired path and filename for your intensity array pickle file\n",
    "with open(\"intensity.pkl\", 'wb') as f:\n",
    "    pickle.dump(intensity_arrays, f)"
   ]
  },
  {
   "cell_type": "code",
   "execution_count": 7,
   "metadata": {},
   "outputs": [
    {
     "data": {
      "text/plain": [
       "150"
      ]
     },
     "execution_count": 7,
     "metadata": {},
     "output_type": "execute_result"
    }
   ],
   "source": [
    "len(intensity_arrays[0])"
   ]
  },
  {
   "cell_type": "code",
   "execution_count": 8,
   "metadata": {},
   "outputs": [
    {
     "data": {
      "text/plain": [
       "932"
      ]
     },
     "execution_count": 8,
     "metadata": {},
     "output_type": "execute_result"
    }
   ],
   "source": [
    "len(intensity_arrays)"
   ]
  },
  {
   "cell_type": "code",
   "execution_count": null,
   "metadata": {},
   "outputs": [],
   "source": []
  }
 ],
 "metadata": {
  "kernelspec": {
   "display_name": "Python 3",
   "language": "python",
   "name": "python3"
  },
  "language_info": {
   "codemirror_mode": {
    "name": "ipython",
    "version": 3
   },
   "file_extension": ".py",
   "mimetype": "text/x-python",
   "name": "python",
   "nbconvert_exporter": "python",
   "pygments_lexer": "ipython3",
   "version": "3.9.1"
  },
  "orig_nbformat": 4
 },
 "nbformat": 4,
 "nbformat_minor": 2
}
