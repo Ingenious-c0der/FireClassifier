{
 "cells": [
  {
   "cell_type": "code",
   "execution_count": 8,
   "metadata": {},
   "outputs": [],
   "source": [
    "import os\n",
    "import numpy as np\n",
    "import matplotlib.pyplot as plt\n",
    "from sklearn.metrics import confusion_matrix\n",
    "from keras.models import load_model\n",
    "import cv2\n",
    "from sklearn.metrics import confusion_matrix,precision_score,recall_score"
   ]
  },
  {
   "cell_type": "code",
   "execution_count": 9,
   "metadata": {},
   "outputs": [],
   "source": [
    "def getArclength(img) -> int:\n",
    "    #number_of_nonblackpixels = np.count_nonzero(img[:,:,2])\n",
    "    contours, hierarchy = cv2.findContours(img[:,:,2],cv2.RETR_EXTERNAL,cv2.CHAIN_APPROX_SIMPLE)\n",
    "    total_arclength = 0\n",
    "    for i in contours:\n",
    "        total_arclength += cv2.arcLength(i,True)\n",
    "\n",
    "    return total_arclength"
   ]
  },
  {
   "cell_type": "code",
   "execution_count": null,
   "metadata": {},
   "outputs": [],
   "source": [
    "#load the arc lengths\n"
   ]
  },
  {
   "cell_type": "code",
   "execution_count": 10,
   "metadata": {},
   "outputs": [],
   "source": [
    "flame_dir = \"../Flame_cropped/\"\n",
    "fire_dir = \"../Fire_full/\"\n",
    "\n",
    "def prep_img(file_path):\n",
    "    IMG_SIZE = 150  # 50 in txt-based\n",
    "    img_array = cv2.imread(file_path)\n",
    "    new_array = cv2.resize(img_array, (IMG_SIZE, IMG_SIZE))\n",
    "    gal_value = getArclength(new_array)\n",
    "    return [new_array.reshape(-1, IMG_SIZE, IMG_SIZE, 3),np.array([gal_value])]"
   ]
  },
  {
   "cell_type": "code",
   "execution_count": 11,
   "metadata": {},
   "outputs": [],
   "source": [
    "flame_files = os.listdir(flame_dir)\n",
    "fire_files = os.listdir(fire_dir)\n",
    "\n",
    "model = load_model(\"64x2-CNN_impure_gal.model\")"
   ]
  },
  {
   "cell_type": "code",
   "execution_count": 12,
   "metadata": {},
   "outputs": [],
   "source": [
    "y_pred = []\n",
    "y_true = []\n",
    "for filename in flame_files:\n",
    "    img = prep_img(flame_dir + filename)\n",
    "    prediction = model.predict(img)\n",
    "    y_pred.append(int(prediction[0][1]))\n",
    "    y_true.append(1)  # 1 represents \"flame\" class\n",
    "\n",
    "for filename in fire_files:\n",
    "    img = prep_img(fire_dir + filename)\n",
    "    prediction = model.predict(img)\n",
    "    y_pred.append(int(prediction[0][1]))\n",
    "    y_true.append(0)  # 0 represents \"fire\" class\n",
    "\n",
    "y_true = np.array(y_true)\n",
    "y_pred = np.array(y_pred)"
   ]
  },
  {
   "cell_type": "code",
   "execution_count": 13,
   "metadata": {},
   "outputs": [
    {
     "name": "stdout",
     "output_type": "stream",
     "text": [
      "[[754   1]\n",
      " [277 205]]\n",
      "Accuracy:  0.7752627324171383\n",
      "Precision:  0.9951456310679612\n",
      "Recall:  0.42531120331950206\n"
     ]
    },
    {
     "data": {
      "image/png": "[encoded data removed]",
      "text/plain": [
       "<Figure size 288x288 with 2 Axes>"
      ]
     },
     "metadata": {
      "needs_background": "light"
     },
     "output_type": "display_data"
    }
   ],
   "source": [
    "cm = confusion_matrix(y_true, y_pred)\n",
    "print(cm)\n",
    "print(\"Accuracy: \",(cm[0][0]+cm[1][1])/np.sum(cm))\n",
    "print(\"Precision: \",precision_score(y_true, y_pred))\n",
    "print(\"Recall: \",recall_score(y_true, y_pred))\n",
    "plt.matshow(cm)\n",
    "plt.title('Confusion matrix')\n",
    "plt.colorbar()\n",
    "plt.ylabel('True label')\n",
    "plt.xlabel('Predicted label')\n",
    "plt.show()"
   ]
  }
 ],
 "metadata": {
  "kernelspec": {
   "display_name": "Python 3",
   "language": "python",
   "name": "python3"
  },
  "language_info": {
   "codemirror_mode": {
    "name": "ipython",
    "version": 3
   },
   "file_extension": ".py",
   "mimetype": "text/x-python",
   "name": "python",
   "nbconvert_exporter": "python",
   "pygments_lexer": "ipython3",
   "version": "3.9.1"
  },
  "orig_nbformat": 4
 },
 "nbformat": 4,
 "nbformat_minor": 2
}
