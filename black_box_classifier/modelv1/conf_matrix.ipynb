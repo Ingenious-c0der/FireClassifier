{
 "cells": [
  {
   "cell_type": "code",
   "execution_count": 6,
   "metadata": {},
   "outputs": [],
   "source": [
    "import os\n",
    "import numpy as np\n",
    "import matplotlib.pyplot as plt\n",
    "from sklearn.metrics import confusion_matrix\n",
    "from keras.models import load_model\n",
    "import cv2\n",
    "from sklearn.metrics import confusion_matrix,precision_score,recall_score,f1_score"
   ]
  },
  {
   "cell_type": "code",
   "execution_count": 2,
   "metadata": {},
   "outputs": [],
   "source": [
    "flame_dir = \"Flame_cropped_masked/\"\n",
    "fire_dir = \"Fire_masked/\"\n",
    "\n",
    "def prep_img(file_path):\n",
    "    IMG_SIZE = 150  # 50 in txt-based\n",
    "    img_array = cv2.imread(file_path)\n",
    "    new_array = cv2.resize(img_array, (IMG_SIZE, IMG_SIZE))\n",
    "    return new_array.reshape(-1, IMG_SIZE, IMG_SIZE, 3)\n"
   ]
  },
  {
   "cell_type": "code",
   "execution_count": 3,
   "metadata": {},
   "outputs": [],
   "source": [
    "flame_files = os.listdir(flame_dir)\n",
    "fire_files = os.listdir(fire_dir)\n",
    "\n",
    "model = load_model(\"64x2-CNN_masked_new.model\")"
   ]
  },
  {
   "cell_type": "code",
   "execution_count": 4,
   "metadata": {},
   "outputs": [
    {
     "name": "stdout",
     "output_type": "stream",
     "text": [
      "[[747   8]\n",
      " [  7 475]]\n",
      "Precision:  0.9834368530020704\n",
      "Recall:  0.9854771784232366\n"
     ]
    },
    {
     "data": {
      "image/png": "[encoded data removed]",
      "text/plain": [
       "<Figure size 288x288 with 2 Axes>"
      ]
     },
     "metadata": {
      "needs_background": "light"
     },
     "output_type": "display_data"
    }
   ],
   "source": [
    "y_pred = []\n",
    "y_true = []\n",
    "for filename in flame_files:\n",
    "\n",
    "    img = prep_img(flame_dir + filename)\n",
    "    prediction = model.predict([img])\n",
    "    y_pred.append(int(prediction[0][1]))\n",
    "    y_true.append(1)  # 1 represents \"flame\" class\n",
    "\n",
    "for filename in fire_files:\n",
    "    img = prep_img(fire_dir + filename)\n",
    "    prediction = model.predict([img])\n",
    "    y_pred.append(int(prediction[0][1]))\n",
    "    y_true.append(0)  # 0 represents \"fire\" class\n",
    "\n",
    "y_true = np.array(y_true)\n",
    "y_pred = np.array(y_pred)\n",
    "\n",
    "# Predict the classes of the images\n",
    "\n",
    "\n",
    "# Compute and plot the confusion matrix\n",
    "cm = confusion_matrix(y_true, y_pred)\n",
    "print(cm)\n",
    "print(\"Precision: \",precision_score(y_true, y_pred))\n",
    "print(\"Recall: \",recall_score(y_true, y_pred))\n",
    "print(\"F1: \",f1_score(y_true, y_pred))\n",
    "plt.matshow(cm)\n",
    "plt.title('Confusion matrix')\n",
    "plt.colorbar()\n",
    "plt.ylabel('True label')\n",
    "plt.xlabel('Predicted label')\n",
    "plt.show()\n",
    "\n"
   ]
  },
  {
   "cell_type": "code",
   "execution_count": 7,
   "metadata": {},
   "outputs": [
    {
     "name": "stdout",
     "output_type": "stream",
     "text": [
      "[[747   8]\n",
      " [  7 475]]\n",
      "Precision:  0.9834368530020704\n",
      "Recall:  0.9854771784232366\n",
      "F1:  0.9844559585492227\n"
     ]
    },
    {
     "data": {
      "image/png": "[encoded data removed]",
      "text/plain": [
       "<Figure size 288x288 with 2 Axes>"
      ]
     },
     "metadata": {
      "needs_background": "light"
     },
     "output_type": "display_data"
    }
   ],
   "source": [
    "cm = confusion_matrix(y_true, y_pred)\n",
    "print(cm)\n",
    "print(\"Precision: \",precision_score(y_true, y_pred))\n",
    "print(\"Recall: \",recall_score(y_true, y_pred))\n",
    "print(\"F1: \",f1_score(y_true, y_pred))\n",
    "plt.matshow(cm)\n",
    "plt.title('Confusion matrix')\n",
    "plt.colorbar()\n",
    "plt.ylabel('True label')\n",
    "plt.xlabel('Predicted label')\n",
    "plt.show()"
   ]
  }
 ],
 "metadata": {
  "kernelspec": {
   "display_name": "Python 3",
   "language": "python",
   "name": "python3"
  },
  "language_info": {
   "codemirror_mode": {
    "name": "ipython",
    "version": 3
   },
   "file_extension": ".py",
   "mimetype": "text/x-python",
   "name": "python",
   "nbconvert_exporter": "python",
   "pygments_lexer": "ipython3",
   "version": "3.9.1"
  },
  "orig_nbformat": 4
 },
 "nbformat": 4,
 "nbformat_minor": 2
}
